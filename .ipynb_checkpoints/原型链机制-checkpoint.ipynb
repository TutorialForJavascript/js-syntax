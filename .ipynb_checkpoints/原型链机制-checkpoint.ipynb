{
 "cells": [
  {
   "cell_type": "markdown",
   "metadata": {},
   "source": [
    "# 原型链机制\n",
    "\n",
    "在看过前面的面相对象部分以后这边来讲讲js语言机制中的最核心--原型机制.\n",
    "\n",
    "大家肯定听过说js没有真正的类,面相对象靠的是原型机制,那这个原型机制是个什么呢?它又是怎么来的呢?\n"
   ]
  },
  {
   "cell_type": "markdown",
   "metadata": {},
   "source": [
    "## 奇葩历史造就奇葩机制\n",
    "\n",
    "\n",
    "js的的语言设计在早期可以说相当的让人无语,这也为诞生出原型链这种机制创造了条件.\n",
    "\n",
    "在最开始的时候js被规划为一种脚本语言,只要能让浏览器可以与网页互动就行,按现在的软件工程理论来说,他们还挺先进的,做了个`mvp`,这个`mvp`就是早期的js.早期的js真的是能省就省.尤其在关键的地方也一点不含糊--js想要面相对象,但又觉得它太复杂,于是它省掉了类...\n",
    "\n",
    "我们知道类是实例对象的模板,没有类怎么创建实例呢?\n",
    "\n",
    "js另辟蹊径,用所谓的原型来代替类的功能,为创建实例提供模板.什么意思呢?比如有个对象A,我们希望对象B有和对象A一样的字段,那怎么办?\n",
    "\n",
    "+ 使用类就是,我在A,B的基础上做一个模板T,这个T做的事情只是确定使用的它对象有什么字段,默认值时什么,然后A和B就通过同样的构造函数来由T创建.\n",
    "+ 使用原型就是:我们拿对象A做模板,复制一个B出来然后通过构造函数改B\n",
    "\n",
    "额...简单理解可以认为A充当了模板,在某种意义上来说原型机制就是把继承链上的最后一个父对象当做了类的实现.因此严格意义上来说js只有继承没有类."
   ]
  },
  {
   "cell_type": "markdown",
   "metadata": {},
   "source": [
    "## 函数即构造函数\n",
    "\n",
    "在早期为了省事儿,js把函数和构造函数直接混淆了:\n",
    "\n",
    "+ 直接调用函数就是调用函数\n",
    "+ 使用关键字`new`调用函数就是调用构造函数创建实例.\n",
    "\n",
    "然后为了区分类和函数,js则口头的规定函数名大写的是构造函数,小写的是类..."
   ]
  },
  {
   "cell_type": "code",
   "execution_count": 1,
   "metadata": {},
   "outputs": [],
   "source": [
    "function A_constructor(x,y){\n",
    "    this.x=x\n",
    "    this.y=y\n",
    "    this.calcul_add = function(){\n",
    "        return this.a+this.b\n",
    "    }\n",
    "    return x+y\n",
    "}"
   ]
  },
  {
   "cell_type": "code",
   "execution_count": 2,
   "metadata": {},
   "outputs": [
    {
     "data": {
      "text/plain": [
       "3"
      ]
     },
     "execution_count": 2,
     "metadata": {},
     "output_type": "execute_result"
    }
   ],
   "source": [
    "A_constructor(1,2)"
   ]
  },
  {
   "cell_type": "code",
   "execution_count": 3,
   "metadata": {},
   "outputs": [
    {
     "data": {
      "text/plain": [
       "A_constructor { x: 1, y: 2, calcul_add: [Function] }"
      ]
     },
     "execution_count": 3,
     "metadata": {},
     "output_type": "execute_result"
    }
   ],
   "source": [
    "let a = new A_constructor(1,2)\n",
    "a"
   ]
  },
  {
   "cell_type": "code",
   "execution_count": 4,
   "metadata": {},
   "outputs": [
    {
     "data": {
      "text/plain": [
       "A_constructor { x: 3, y: 4, calcul_add: [Function] }"
      ]
     },
     "execution_count": 4,
     "metadata": {},
     "output_type": "execute_result"
    }
   ],
   "source": [
    "let b = new A_constructor(3,4)\n",
    "b"
   ]
  },
  {
   "cell_type": "code",
   "execution_count": 5,
   "metadata": {},
   "outputs": [
    {
     "data": {
      "text/plain": [
       "true"
      ]
     },
     "execution_count": 5,
     "metadata": {},
     "output_type": "execute_result"
    }
   ],
   "source": [
    "a instanceof A_constructor"
   ]
  },
  {
   "cell_type": "markdown",
   "metadata": {},
   "source": [
    "我们可以看到a是类型`A_constructor`的实例,这意味着什么呢,js认为构造函数的名字就是类名,或者干脆说构造函数就是类了.真是够偷懒的..."
   ]
  },
  {
   "cell_type": "markdown",
   "metadata": {},
   "source": [
    "## 原型\n",
    "\n",
    "使用构造函数创建下只有字段保存值得结构还行,绑定函数成为方法就蛋疼了,因为每次new都会创建一个内容一样的函数,这会消耗大量资源.\n",
    "\n",
    "同时一些比如类属性就没办法实现了"
   ]
  },
  {
   "cell_type": "code",
   "execution_count": 6,
   "metadata": {},
   "outputs": [
    {
     "data": {
      "text/plain": [
       "true"
      ]
     },
     "execution_count": 6,
     "metadata": {},
     "output_type": "execute_result"
    }
   ],
   "source": [
    "Object.is(A_constructor,A_constructor)"
   ]
  },
  {
   "cell_type": "code",
   "execution_count": 7,
   "metadata": {},
   "outputs": [
    {
     "data": {
      "text/plain": [
       "false"
      ]
     },
     "execution_count": 7,
     "metadata": {},
     "output_type": "execute_result"
    }
   ],
   "source": [
    "Object.is(a.calcul_add,b.calcul_add)"
   ]
  },
  {
   "cell_type": "markdown",
   "metadata": {},
   "source": [
    "有什么办法可以解决这个问题呢?js就规定可以在构造函数上加一个字段`prototype`,即原型(今天的主角),我们就可以修改这个字段,为由它构造的实例对象添加公有方法和共享属性.由这个构造函数构造出来的实例对象也会有一个特殊字段`__proto__`用于保存这个构造函数上加的`prototype`对应的对象的引用.\n",
    "\n",
    "访问对象字段时,在对象本身没找到对应字段时会去对象的`__proto__`找有没有对应的字段.都找不到才会返回`undefined`"
   ]
  },
  {
   "cell_type": "code",
   "execution_count": 8,
   "metadata": {},
   "outputs": [
    {
     "data": {
      "text/plain": [
       "A_constructor {}"
      ]
     },
     "execution_count": 8,
     "metadata": {},
     "output_type": "execute_result"
    }
   ],
   "source": [
    "A_constructor.prototype"
   ]
  },
  {
   "cell_type": "code",
   "execution_count": 9,
   "metadata": {},
   "outputs": [],
   "source": [
    "let A = {\n",
    "    z:\"share\",\n",
    "    calcul_mul:function(){\n",
    "        return this.x*this.y\n",
    "    }\n",
    "}"
   ]
  },
  {
   "cell_type": "code",
   "execution_count": 10,
   "metadata": {},
   "outputs": [
    {
     "data": {
      "text/plain": [
       "{ z: 'share', calcul_mul: [Function: calcul_mul] }"
      ]
     },
     "execution_count": 10,
     "metadata": {},
     "output_type": "execute_result"
    }
   ],
   "source": [
    "A_constructor.prototype = A"
   ]
  },
  {
   "cell_type": "code",
   "execution_count": 11,
   "metadata": {},
   "outputs": [],
   "source": [
    "let c = new A_constructor(10,11)\n",
    "let d = new A_constructor(11,12)"
   ]
  },
  {
   "cell_type": "code",
   "execution_count": 12,
   "metadata": {},
   "outputs": [
    {
     "data": {
      "text/plain": [
       "'share'"
      ]
     },
     "execution_count": 12,
     "metadata": {},
     "output_type": "execute_result"
    }
   ],
   "source": [
    "c.z"
   ]
  },
  {
   "cell_type": "code",
   "execution_count": 13,
   "metadata": {},
   "outputs": [
    {
     "data": {
      "text/plain": [
       "110"
      ]
     },
     "execution_count": 13,
     "metadata": {},
     "output_type": "execute_result"
    }
   ],
   "source": [
    "c.calcul_mul()"
   ]
  },
  {
   "cell_type": "code",
   "execution_count": 14,
   "metadata": {},
   "outputs": [
    {
     "data": {
      "text/plain": [
       "'share'"
      ]
     },
     "execution_count": 14,
     "metadata": {},
     "output_type": "execute_result"
    }
   ],
   "source": [
    "d.z"
   ]
  },
  {
   "cell_type": "code",
   "execution_count": 15,
   "metadata": {},
   "outputs": [
    {
     "data": {
      "text/plain": [
       "132"
      ]
     },
     "execution_count": 15,
     "metadata": {},
     "output_type": "execute_result"
    }
   ],
   "source": [
    "d.calcul_mul()"
   ]
  },
  {
   "cell_type": "code",
   "execution_count": 16,
   "metadata": {},
   "outputs": [
    {
     "data": {
      "text/plain": [
       "'test'"
      ]
     },
     "execution_count": 16,
     "metadata": {},
     "output_type": "execute_result"
    }
   ],
   "source": [
    "c.z = \"test\""
   ]
  },
  {
   "cell_type": "code",
   "execution_count": 17,
   "metadata": {},
   "outputs": [
    {
     "data": {
      "text/plain": [
       "'test'"
      ]
     },
     "execution_count": 17,
     "metadata": {},
     "output_type": "execute_result"
    }
   ],
   "source": [
    "c.z"
   ]
  },
  {
   "cell_type": "code",
   "execution_count": 18,
   "metadata": {},
   "outputs": [
    {
     "data": {
      "text/plain": [
       "'share'"
      ]
     },
     "execution_count": 18,
     "metadata": {},
     "output_type": "execute_result"
    }
   ],
   "source": [
    "d.z"
   ]
  },
  {
   "cell_type": "code",
   "execution_count": 19,
   "metadata": {},
   "outputs": [
    {
     "data": {
      "text/plain": [
       "{ z: 'share', calcul_mul: [Function: calcul_mul] }"
      ]
     },
     "execution_count": 19,
     "metadata": {},
     "output_type": "execute_result"
    }
   ],
   "source": [
    "c.__proto__"
   ]
  },
  {
   "cell_type": "code",
   "execution_count": 20,
   "metadata": {},
   "outputs": [
    {
     "data": {
      "text/plain": [
       "true"
      ]
     },
     "execution_count": 20,
     "metadata": {},
     "output_type": "execute_result"
    }
   ],
   "source": [
    "Object.is(c.calcul_mul,d.calcul_mul)"
   ]
  },
  {
   "cell_type": "markdown",
   "metadata": {},
   "source": [
    "## 本地字段和原型字段\n",
    "\n",
    "弄清了上面的过程,我们就知道该如何构造共享属性和共享方法,这其实就像python中的实例方法和类方法,我们可以定义好构造函数的原型,这个原型本身是共享的\n",
    "\n",
    "+ 如果要对所有这个类的实例(由这个构造函数构造的实例)操作变化就修改`instance.__proto__.attr`\n",
    "+ 如果要屏蔽掉对这个共享字段的引用就使用本地字段覆盖掉它`instance.z = undefined`\n",
    "\n",
    "类似的如果字段是方法,那其实也是一样,不过需要注意的是`this`指代的是实例本身而非原型对象因此其字段的访问原理也是一致的."
   ]
  },
  {
   "cell_type": "code",
   "execution_count": 21,
   "metadata": {},
   "outputs": [
    {
     "data": {
      "text/plain": [
       "'testtest'"
      ]
     },
     "execution_count": 21,
     "metadata": {},
     "output_type": "execute_result"
    }
   ],
   "source": [
    "c.__proto__.z = \"testtest\""
   ]
  },
  {
   "cell_type": "code",
   "execution_count": 22,
   "metadata": {},
   "outputs": [
    {
     "data": {
      "text/plain": [
       "'testtest'"
      ]
     },
     "execution_count": 22,
     "metadata": {},
     "output_type": "execute_result"
    }
   ],
   "source": [
    "d.z"
   ]
  },
  {
   "cell_type": "code",
   "execution_count": 23,
   "metadata": {},
   "outputs": [
    {
     "data": {
      "text/plain": [
       "'test'"
      ]
     },
     "execution_count": 23,
     "metadata": {},
     "output_type": "execute_result"
    }
   ],
   "source": [
    "c.z"
   ]
  },
  {
   "cell_type": "code",
   "execution_count": 24,
   "metadata": {},
   "outputs": [],
   "source": [
    "c.z = undefined"
   ]
  },
  {
   "cell_type": "code",
   "execution_count": 25,
   "metadata": {},
   "outputs": [],
   "source": [
    "c.z"
   ]
  },
  {
   "cell_type": "markdown",
   "metadata": {},
   "source": [
    "需要注意,new方法生成的对象,它的原型是复制过来的而非引用,因此使用先前定义A而未给构造函数的`prototype`赋值,创建出来的实例`a`,`b`并不会有后添加的共享属性"
   ]
  },
  {
   "cell_type": "code",
   "execution_count": 26,
   "metadata": {},
   "outputs": [],
   "source": [
    "a.z"
   ]
  },
  {
   "cell_type": "code",
   "execution_count": 27,
   "metadata": {},
   "outputs": [
    {
     "data": {
      "text/plain": [
       "A_constructor {}"
      ]
     },
     "execution_count": 27,
     "metadata": {},
     "output_type": "execute_result"
    }
   ],
   "source": [
    "a.__proto__"
   ]
  },
  {
   "cell_type": "markdown",
   "metadata": {},
   "source": [
    "使用构造函数这种方式构造实例对象有明显缺陷:\n",
    "\n",
    "+ 没有继承语法\n",
    "+ `this`指针污染`global`环境,这个下一节会细聊"
   ]
  },
  {
   "cell_type": "code",
   "execution_count": 28,
   "metadata": {},
   "outputs": [
    {
     "data": {
      "text/plain": [
       "1"
      ]
     },
     "execution_count": 28,
     "metadata": {},
     "output_type": "execute_result"
    }
   ],
   "source": [
    "x"
   ]
  },
  {
   "cell_type": "code",
   "execution_count": 29,
   "metadata": {},
   "outputs": [
    {
     "data": {
      "text/plain": [
       "2"
      ]
     },
     "execution_count": 29,
     "metadata": {},
     "output_type": "execute_result"
    }
   ],
   "source": [
    "y"
   ]
  },
  {
   "cell_type": "markdown",
   "metadata": {},
   "source": [
    "## 构建继承链\n",
    "\n",
    "`Object.create(obj[,propertiesObject]`可以由对象直接创建对象实例并将原对象放入`__proto__`,可以在`propertiesObject`的位置放入要添加到新创建对象的可枚举属性(即其本地枚举属性字段,而不是其原型链上的枚举属性),这种方式常用在继承上."
   ]
  },
  {
   "cell_type": "code",
   "execution_count": 30,
   "metadata": {},
   "outputs": [],
   "source": [
    "let Oa = Object.create(A)"
   ]
  },
  {
   "cell_type": "code",
   "execution_count": 31,
   "metadata": {},
   "outputs": [
    {
     "data": {
      "text/plain": [
       "{ z: 'testtest', calcul_mul: [Function: calcul_mul] }"
      ]
     },
     "execution_count": 31,
     "metadata": {},
     "output_type": "execute_result"
    }
   ],
   "source": [
    "Oa.__proto__"
   ]
  },
  {
   "cell_type": "code",
   "execution_count": 32,
   "metadata": {},
   "outputs": [
    {
     "data": {
      "text/plain": [
       "'testtest'"
      ]
     },
     "execution_count": 32,
     "metadata": {},
     "output_type": "execute_result"
    }
   ],
   "source": [
    "Oa.z"
   ]
  },
  {
   "cell_type": "code",
   "execution_count": 33,
   "metadata": {},
   "outputs": [],
   "source": [
    "let Ooa = Object.create(Oa)"
   ]
  },
  {
   "cell_type": "code",
   "execution_count": 34,
   "metadata": {},
   "outputs": [
    {
     "data": {
      "text/plain": [
       "{ z: 'testtest', calcul_mul: [Function: calcul_mul] }"
      ]
     },
     "execution_count": 34,
     "metadata": {},
     "output_type": "execute_result"
    }
   ],
   "source": [
    "Ooa.__proto__.__proto__"
   ]
  },
  {
   "cell_type": "code",
   "execution_count": 35,
   "metadata": {},
   "outputs": [
    {
     "data": {
      "text/plain": [
       "'testtest'"
      ]
     },
     "execution_count": 35,
     "metadata": {},
     "output_type": "execute_result"
    }
   ],
   "source": [
    "Ooa.z"
   ]
  },
  {
   "cell_type": "markdown",
   "metadata": {},
   "source": [
    "这种方式构造的对象一般也是用于为构造函数的`prototype`赋值的.\n",
    "\n",
    "另一种方式为对象构造继承链的方式是使用`Object.setPrototypeOf(obj, prototype)`,这个方法可以直接为一个对象指定原型"
   ]
  },
  {
   "cell_type": "code",
   "execution_count": 36,
   "metadata": {},
   "outputs": [],
   "source": [
    "let Ob={}"
   ]
  },
  {
   "cell_type": "code",
   "execution_count": 37,
   "metadata": {},
   "outputs": [
    {
     "data": {
      "text/plain": [
       "{}"
      ]
     },
     "execution_count": 37,
     "metadata": {},
     "output_type": "execute_result"
    }
   ],
   "source": [
    "Object.setPrototypeOf(Ob, A)"
   ]
  },
  {
   "cell_type": "code",
   "execution_count": 38,
   "metadata": {},
   "outputs": [
    {
     "data": {
      "text/plain": [
       "{ z: 'testtest', calcul_mul: [Function: calcul_mul] }"
      ]
     },
     "execution_count": 38,
     "metadata": {},
     "output_type": "execute_result"
    }
   ],
   "source": [
    "Ob.__proto__"
   ]
  },
  {
   "cell_type": "markdown",
   "metadata": {},
   "source": [
    "### 使用这套工具构造真正的继承关系\n",
    "\n",
    "我们弄个简单点的模型,定义狗继承自动物"
   ]
  },
  {
   "cell_type": "code",
   "execution_count": 1,
   "metadata": {},
   "outputs": [
    {
     "data": {
      "text/plain": [
       "{ move: [Function: move] }"
      ]
     },
     "execution_count": 1,
     "metadata": {},
     "output_type": "execute_result"
    }
   ],
   "source": [
    "function Animal(name,type){\n",
    "    this.name = name\n",
    "    this.type = type\n",
    "}\n",
    "\n",
    "Animal.prototype = {\n",
    "    move(){\n",
    "        console.log(`${this.name} is moving`)\n",
    "    }\n",
    "}"
   ]
  },
  {
   "cell_type": "code",
   "execution_count": 2,
   "metadata": {},
   "outputs": [
    {
     "data": {
      "text/plain": [
       "{}"
      ]
     },
     "execution_count": 2,
     "metadata": {},
     "output_type": "execute_result"
    }
   ],
   "source": [
    "function Dog(name){\n",
    "    this.name = name\n",
    "    Animal.call(this,this.name,\"Dog\")\n",
    "}\n",
    "\n",
    "Dog.prototype = Object.create(Animal.prototype)"
   ]
  },
  {
   "cell_type": "code",
   "execution_count": 3,
   "metadata": {},
   "outputs": [],
   "source": [
    "let d1 = new Dog(\"hzj\")"
   ]
  },
  {
   "cell_type": "code",
   "execution_count": 4,
   "metadata": {},
   "outputs": [
    {
     "data": {
      "text/plain": [
       "'hzj'"
      ]
     },
     "execution_count": 4,
     "metadata": {},
     "output_type": "execute_result"
    }
   ],
   "source": [
    "d1.name"
   ]
  },
  {
   "cell_type": "code",
   "execution_count": 5,
   "metadata": {},
   "outputs": [
    {
     "data": {
      "text/plain": [
       "'Dog'"
      ]
     },
     "execution_count": 5,
     "metadata": {},
     "output_type": "execute_result"
    }
   ],
   "source": [
    "d1.type"
   ]
  },
  {
   "cell_type": "code",
   "execution_count": 6,
   "metadata": {},
   "outputs": [
    {
     "name": "stdout",
     "output_type": "stream",
     "text": [
      "hzj is moving\n"
     ]
    }
   ],
   "source": [
    "d1.move()"
   ]
  },
  {
   "cell_type": "code",
   "execution_count": 7,
   "metadata": {},
   "outputs": [
    {
     "data": {
      "text/plain": [
       "true"
      ]
     },
     "execution_count": 7,
     "metadata": {},
     "output_type": "execute_result"
    }
   ],
   "source": [
    "d1 instanceof Dog"
   ]
  },
  {
   "cell_type": "code",
   "execution_count": 8,
   "metadata": {},
   "outputs": [
    {
     "data": {
      "text/plain": [
       "true"
      ]
     },
     "execution_count": 8,
     "metadata": {},
     "output_type": "execute_result"
    }
   ],
   "source": [
    "d1 instanceof Animal"
   ]
  },
  {
   "cell_type": "markdown",
   "metadata": {},
   "source": [
    "如上,利用这两个工具我们就可以通过不断的构造原型链和绑定原型对象来构建类之间的关系了.\n",
    "\n",
    "至此js关于原型链的部分就结束了,可以看出这个出发点是简化模型的设计并没有真的简化模型,这套设计的不直观对学习者带来的心智负担一点不比使用其他语言类似的类申明语法轻.而且代码分散并不利于维护."
   ]
  },
  {
   "cell_type": "markdown",
   "metadata": {},
   "source": [
    "## class语法和构造函数的关系\n",
    "\n",
    "在ES6以后终于js有了class语法,虽然只是语法糖,但可以显式的声明类了(虽然本质上还是申明的构造函数),更关键的是它可以显式的申明继承关系了,可以参考[面相对象编程部分](https://tutorialforjavascript.github.io/%E5%9F%BA%E7%A1%80%E8%AF%AD%E6%B3%95/%E9%9D%A2%E5%90%91%E5%AF%B9%E8%B1%A1%E7%BC%96%E7%A8%8B.html#%E7%BB%A7%E6%89%BF)\n",
    "\n",
    "这也就意味着我们不用关心一个类的继承细节,只用关注要用这个类实现什么逻辑即可.现代编程语言本来就应该如此设计.这边如何使用`class`关键字定义类和创建实例我们就不再复述.而是讲下`class`关键字究竟是做了什么\n",
    "\n",
    "\n",
    "`class`关键字其实本质上还是申明了一个构造函数,只是构造函数的函数体被移动到了方法`constructor`中定义,而且`constructor`如果有返回值,则返回值就是那个构造函数;\n",
    "\n",
    "而其他的在`class`体中定义的方法其实都是在创建完实例后通过[`Object.defineProperty(obj, prop, descriptor)`](https://developer.mozilla.org/zh-CN/docs/Web/JavaScript/Reference/Global_Objects/Object/defineProperty)绑定上去的.因此才可以使用`get`,`set`关键字定义取值函数和存值函数,从而固定一个字段的可访问情况.\n",
    "\n",
    "而静态方法则是直接使用`Object.defineProperty(obj, prop, descriptor)`将方法直接绑定到构造函数."
   ]
  },
  {
   "cell_type": "code",
   "execution_count": 1,
   "metadata": {},
   "outputs": [],
   "source": [
    "class Planet{\n",
    "    constructor(name,r){\n",
    "        this.name = name\n",
    "        this.r = r\n",
    "    }\n",
    "    get size(){\n",
    "        return (4/3)*Math.PI* (this.r**3)\n",
    "    }\n",
    "    static test(){\n",
    "        console.log(this)\n",
    "        return \"test\"\n",
    "    }\n",
    "}"
   ]
  },
  {
   "cell_type": "code",
   "execution_count": 2,
   "metadata": {},
   "outputs": [],
   "source": [
    "let p1 = new Planet(\"a\",12)"
   ]
  },
  {
   "cell_type": "code",
   "execution_count": 3,
   "metadata": {},
   "outputs": [
    {
     "name": "stdout",
     "output_type": "stream",
     "text": [
      "[Function: Planet]\n"
     ]
    },
    {
     "data": {
      "text/plain": [
       "'test'"
      ]
     },
     "execution_count": 3,
     "metadata": {},
     "output_type": "execute_result"
    }
   ],
   "source": [
    "Planet.test()"
   ]
  },
  {
   "cell_type": "code",
   "execution_count": 4,
   "metadata": {},
   "outputs": [
    {
     "data": {
      "text/plain": [
       "7238.229473870882"
      ]
     },
     "execution_count": 4,
     "metadata": {},
     "output_type": "execute_result"
    }
   ],
   "source": [
    "p1.size"
   ]
  },
  {
   "cell_type": "markdown",
   "metadata": {},
   "source": [
    "## 构造`callable`的类\n",
    "\n",
    "既然我们可以继承函数的构造函数即`Function`类,那我们当然可以针对这个搞点事情,比如像python中定义`__call__`一样的定义实例被调用时的行为."
   ]
  },
  {
   "cell_type": "code",
   "execution_count": 1,
   "metadata": {},
   "outputs": [
    {
     "data": {
      "text/plain": [
       "'use strict'"
      ]
     },
     "execution_count": 1,
     "metadata": {},
     "output_type": "execute_result"
    }
   ],
   "source": [
    "class Smth extends Function {\n",
    "\n",
    "    constructor (x) {\n",
    "        //继承 Function,让函数体为`return this.__call__(...args)`即调用实例的`__call__`方法\n",
    "        super('...args', 'return this.__call__(...args)')\n",
    "        //将这个函数的this绑定到实例上,生成一个新的函数实例.\n",
    "        console.log(this)\n",
    "        let instance = this.bind(this)\n",
    "        // 定义实例的属性\n",
    "        this.x = x\n",
    "        //将这个构造出来的实例作为绑定this的函数的原型\n",
    "        Object.setPrototypeOf(instance,this)\n",
    "        //返回绑定this的函数对象\n",
    "        console.log(instance)\n",
    "        return instance\n",
    "    }\n",
    "    // 定义实例的`__call__`方法\n",
    "    __call__(...args){\n",
    "        return this.x**2\n",
    "    }\n",
    "}\n"
   ]
  },
  {
   "cell_type": "code",
   "execution_count": 2,
   "metadata": {},
   "outputs": [
    {
     "name": "stdout",
     "output_type": "stream",
     "text": [
      "[Smth: anonymous]\n",
      "[Smth: bound anonymous]\n"
     ]
    }
   ],
   "source": [
    "let dd = new Smth(12)"
   ]
  },
  {
   "cell_type": "code",
   "execution_count": 3,
   "metadata": {},
   "outputs": [
    {
     "data": {
      "text/plain": [
       "12"
      ]
     },
     "execution_count": 3,
     "metadata": {},
     "output_type": "execute_result"
    }
   ],
   "source": [
    "dd.x"
   ]
  },
  {
   "cell_type": "code",
   "execution_count": 4,
   "metadata": {},
   "outputs": [
    {
     "data": {
      "text/plain": [
       "144"
      ]
     },
     "execution_count": 4,
     "metadata": {},
     "output_type": "execute_result"
    }
   ],
   "source": [
    "dd()"
   ]
  },
  {
   "cell_type": "code",
   "execution_count": 5,
   "metadata": {},
   "outputs": [
    {
     "data": {
      "text/plain": [
       "true"
      ]
     },
     "execution_count": 5,
     "metadata": {},
     "output_type": "execute_result"
    }
   ],
   "source": [
    "dd instanceof Smth"
   ]
  }
 ],
 "metadata": {
  "kernelspec": {
   "display_name": "jp-Babel (Node.js)",
   "language": "babel",
   "name": "babel"
  },
  "language_info": {
   "file_extension": ".js",
   "mimetype": "application/javascript",
   "name": "javascript",
   "version": "11.6.0"
  }
 },
 "nbformat": 4,
 "nbformat_minor": 2
}
